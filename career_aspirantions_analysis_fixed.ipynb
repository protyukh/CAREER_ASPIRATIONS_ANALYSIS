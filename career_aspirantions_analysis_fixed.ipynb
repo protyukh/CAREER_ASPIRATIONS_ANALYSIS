{
 "cells": [
  {
   "cell_type": "code",
   "execution_count": null,
   "id": "1f99c8a9",
   "metadata": {},
   "outputs": [],
   "source": [
    "import pandas as pd\n",
    "import numpy as np\n",
    "import matplotlib.pyplot as plt\n",
    "\n",
    "\n",
    "file_path = \"Your Career Aspirations of GenZ.csv\"  \n",
    "df = pd.read_csv(file_path)\n",
    "\n",
    "\n",
    "df.head()\n"
   ]
  },
  {
   "cell_type": "code",
   "execution_count": null,
   "id": "3d980883",
   "metadata": {},
   "outputs": [],
   "source": [
    "plt.figure(figsize=(6,4))\n",
    "df['Your Gender'].value_counts().plot(kind='bar', color='skyblue')\n",
    "plt.title('Gender Distribution')\n",
    "plt.ylabel('Count')\n",
    "plt.xticks(rotation=0)\n",
    "plt.grid(axis='y')\n",
    "plt.tight_layout()\n",
    "plt.show()\n"
   ]
  },
  {
   "cell_type": "code",
   "execution_count": null,
   "id": "6a1c06bb",
   "metadata": {},
   "outputs": [],
   "source": [
    "plt.figure(figsize=(10,5))\n",
    "df['Which of the below factors influence the most about your career aspirations ?']\\\n",
    "  .value_counts().plot(kind='barh', color='green')\n",
    "plt.title('Top Influences on Career Aspirations')\n",
    "plt.xlabel('Count')\n",
    "plt.tight_layout()\n",
    "plt.show()"
   ]
  },
  {
   "cell_type": "code",
   "execution_count": null,
   "id": "bd6ee5f8",
   "metadata": {},
   "outputs": [],
   "source": [
    "plt.figure(figsize=(8,4))\n",
    "df['Would you definitely pursue a Higher Education / Post Graduation outside of India ? If only you have to self sponsor it.']\\\n",
    "  .value_counts().plot(kind='pie', autopct='%1.1f%%', startangle=140)\n",
    "plt.title('Willingness to Self-Sponsor Higher Education Abroad')\n",
    "plt.ylabel('')\n",
    "plt.tight_layout()\n",
    "plt.show()"
   ]
  },
  {
   "cell_type": "code",
   "execution_count": null,
   "id": "a9251e3f",
   "metadata": {},
   "outputs": [],
   "source": [
    "plt.figure(figsize=(10,5))\n",
    "df['What is the most preferred working environment for you.'].value_counts()\\\n",
    "  .plot(kind='barh', color='orange')\n",
    "plt.title('Preferred Working Environment')\n",
    "plt.xlabel('Count')\n",
    "plt.tight_layout()\n",
    "plt.show()"
   ]
  },
  {
   "cell_type": "code",
   "execution_count": null,
   "id": "906587b5",
   "metadata": {},
   "outputs": [],
   "source": [
    "plt.figure(figsize=(10,5))\n",
    "df['Which of the below Employers would you work with.'].value_counts()\\\n",
    "  .plot(kind='barh', color='purple')\n",
    "plt.title('Preferred Type of Employer')\n",
    "plt.xlabel('Count')\n",
    "plt.tight_layout()\n",
    "plt.show()"
   ]
  },
  {
   "cell_type": "code",
   "execution_count": null,
   "id": "17a25702",
   "metadata": {},
   "outputs": [],
   "source": [
    "\n",
    "df['How likely would you work for a company whose mission is not bringing social impact ?'] = pd.to_numeric(\n",
    "    df['How likely would you work for a company whose mission is not bringing social impact ?'],\n",
    "    errors='coerce'\n",
    ")\n",
    "\n",
    "plt.figure(figsize=(6,4))\n",
    "df['How likely would you work for a company whose mission is not bringing social impact ?']\\\n",
    "  .dropna().plot(kind='hist', bins=7, color='red', edgecolor='black')\n",
    "plt.title('Importance of Social Impact in Employer Choice')\n",
    "plt.xlabel('Likelihood (1 = not likely, 7 = very likely)')\n",
    "plt.tight_layout()\n",
    "plt.show()"
   ]
  }
 ],
 "metadata": {
  "kernelspec": {
   "display_name": "Python 3",
   "language": "python",
   "name": "python3"
  },
  "language_info": {
   "codemirror_mode": {
    "name": "ipython",
    "version": 3
   },
   "file_extension": ".py",
   "mimetype": "text/x-python",
   "name": "python",
   "nbconvert_exporter": "python",
   "pygments_lexer": "ipython3",
   "version": "3.10.7"
  }
 },
 "nbformat": 4,
 "nbformat_minor": 5
}
